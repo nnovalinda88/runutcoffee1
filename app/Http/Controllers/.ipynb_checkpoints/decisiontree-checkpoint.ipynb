{
 "cells": [
  {
   "cell_type": "code",
   "execution_count": null,
   "id": "91b869f6",
   "metadata": {},
   "outputs": [],
   "source": [
    "#Importing libraries\n",
    "import pandas as pd \n",
    "from sklearn import preprocessing\n",
    "import numpy as np\n",
    "import pickle\n",
    "from sklearn import metrics\n",
    "from sklearn.model_selection import train_test_split\n",
    "from sklearn.tree import DecisionTreeRegressor\n",
    "from sklearn.metrics import accuracy_score\n",
    "from sklearn.tree import DecisionTreeClassifier\n",
    "from sklearn.preprocessing import scale\n",
    "from sklearn.linear_model import LogisticRegression\n",
    "from sklearn.model_selection import GridSearchCV"
   ]
  },
  {
   "cell_type": "code",
   "execution_count": null,
   "id": "1ecce4ad",
   "metadata": {},
   "outputs": [],
   "source": [
    "#reading the data\n",
    "\n",
    "df = pd.read_csv('Data_sample.csv',usecols=['id','jenis kelamin', 'pelayanan', 'produk', 'kebersihan', 'Harga','Rekomendasi'])\n"
   ]
  },
  {
   "cell_type": "code",
   "execution_count": null,
   "id": "8e4e461e",
   "metadata": {},
   "outputs": [],
   "source": [
    "#separating independent and dependent variable\n",
    "X = df.drop('Rekomendasi', axis=1)\n",
    "Xs = scale(X)\n",
    "y = df['Rekomendasi']"
   ]
  },
  {
   "cell_type": "code",
   "execution_count": null,
   "id": "4831fc90",
   "metadata": {},
   "outputs": [],
   "source": [
    "X_train, X_test, y_train, y_test = train_test_split( Xs, y, random_state = 30, stratify=y, test_size = 0.1)"
   ]
  },
  {
   "cell_type": "code",
   "execution_count": null,
   "id": "71ad5dfe",
   "metadata": {},
   "outputs": [],
   "source": [
    "model_lr = LogisticRegression(random_state=30)"
   ]
  },
  {
   "cell_type": "code",
   "execution_count": null,
   "id": "e2cc1b90",
   "metadata": {
    "scrolled": false
   },
   "outputs": [],
   "source": [
    "params_grid = {\n",
    "    'C':np.arange(0.1, 1, 0.1), 'class_weight': [{0:x, 1:1-x} for x in np.arange(0.1, 0.9, 0.1)]\n",
    "}"
   ]
  },
  {
   "cell_type": "code",
   "execution_count": null,
   "id": "656a1c8b",
   "metadata": {},
   "outputs": [],
   "source": [
    "gscv = GridSearchCV(model_lr, params_grid, cv=10, scoring='f1')"
   ]
  },
  {
   "cell_type": "code",
   "execution_count": null,
   "id": "83f9ecc4",
   "metadata": {},
   "outputs": [],
   "source": [
    "gscv.fit(X_train, y_train)"
   ]
  },
  {
   "cell_type": "code",
   "execution_count": null,
   "id": "aad2277a",
   "metadata": {},
   "outputs": [],
   "source": [
    "y_pred = gscv.predict(X_test)"
   ]
  },
  {
   "cell_type": "code",
   "execution_count": null,
   "id": "7c84edf4",
   "metadata": {},
   "outputs": [],
   "source": [
    "from sklearn.metrics import confusion_matrix, classification_report"
   ]
  },
  {
   "cell_type": "code",
   "execution_count": null,
   "id": "8e616548",
   "metadata": {},
   "outputs": [],
   "source": [
    "confusion_matrix(y_test, y_pred, labels=[1,0])"
   ]
  },
  {
   "cell_type": "code",
   "execution_count": null,
   "id": "be043ed7",
   "metadata": {},
   "outputs": [],
   "source": [
    "TP = 37\n",
    "FN = 0\n",
    "FP = 2\n",
    "TN = 1"
   ]
  },
  {
   "cell_type": "code",
   "execution_count": null,
   "id": "aa8a5bfa",
   "metadata": {},
   "outputs": [],
   "source": [
    "print(classification_report(y_test, y_pred))"
   ]
  },
  {
   "cell_type": "code",
   "execution_count": 41,
   "id": "9f6cc7fd",
   "metadata": {},
   "outputs": [],
   "source": [
    "#menghitung nilai presisi, recall f-1 score dari model kita dalam memprediksi data yg positive\n",
    "precision = TP/(TP+FP)"
   ]
  },
  {
   "cell_type": "code",
   "execution_count": 42,
   "id": "e0055745",
   "metadata": {},
   "outputs": [
    {
     "data": {
      "text/plain": [
       "0.9487179487179487"
      ]
     },
     "execution_count": 42,
     "metadata": {},
     "output_type": "execute_result"
    }
   ],
   "source": [
    "precision"
   ]
  },
  {
   "cell_type": "code",
   "execution_count": 43,
   "id": "f6c5bc53",
   "metadata": {},
   "outputs": [],
   "source": [
    "recall = TP/(TP+FP)"
   ]
  },
  {
   "cell_type": "code",
   "execution_count": 44,
   "id": "c5dd0fa0",
   "metadata": {},
   "outputs": [
    {
     "data": {
      "text/plain": [
       "0.9487179487179487"
      ]
     },
     "execution_count": 44,
     "metadata": {},
     "output_type": "execute_result"
    }
   ],
   "source": [
    "recall"
   ]
  },
  {
   "cell_type": "code",
   "execution_count": 47,
   "id": "497d5707",
   "metadata": {},
   "outputs": [],
   "source": [
    "f1score = 2*precision*recall/(precision+recall)"
   ]
  },
  {
   "cell_type": "code",
   "execution_count": 48,
   "id": "589a057e",
   "metadata": {},
   "outputs": [
    {
     "data": {
      "text/plain": [
       "0.9487179487179487"
      ]
     },
     "execution_count": 48,
     "metadata": {},
     "output_type": "execute_result"
    }
   ],
   "source": [
    "f1score"
   ]
  },
  {
   "cell_type": "code",
   "execution_count": 49,
   "id": "09212c71",
   "metadata": {},
   "outputs": [],
   "source": [
    "#Menghitung nilai precisi, recall f-1 score dari model kita dalam memprediksi data yg negatif\n",
    "precision = TN/(TN+FN)"
   ]
  },
  {
   "cell_type": "code",
   "execution_count": 50,
   "id": "f97f6897",
   "metadata": {},
   "outputs": [
    {
     "data": {
      "text/plain": [
       "1.0"
      ]
     },
     "execution_count": 50,
     "metadata": {},
     "output_type": "execute_result"
    }
   ],
   "source": [
    "precision"
   ]
  },
  {
   "cell_type": "code",
   "execution_count": 198,
   "id": "08702300",
   "metadata": {},
   "outputs": [],
   "source": [
    "recall = TN/(TN/FP)"
   ]
  },
  {
   "cell_type": "code",
   "execution_count": 51,
   "id": "bdb49af3",
   "metadata": {},
   "outputs": [
    {
     "data": {
      "text/plain": [
       "0.9487179487179487"
      ]
     },
     "execution_count": 51,
     "metadata": {},
     "output_type": "execute_result"
    }
   ],
   "source": [
    "recall"
   ]
  },
  {
   "cell_type": "code",
   "execution_count": 53,
   "id": "db519c4a",
   "metadata": {},
   "outputs": [],
   "source": [
    "fiscore=(precision*recall*2)/(precision+recall)"
   ]
  },
  {
   "cell_type": "code",
   "execution_count": 54,
   "id": "9616a805",
   "metadata": {},
   "outputs": [
    {
     "data": {
      "text/plain": [
       "0.9736842105263158"
      ]
     },
     "execution_count": 54,
     "metadata": {},
     "output_type": "execute_result"
    }
   ],
   "source": [
    "fiscore"
   ]
  },
  {
   "cell_type": "code",
   "execution_count": 208,
   "id": "c1f22dcc",
   "metadata": {},
   "outputs": [],
   "source": []
  },
  {
   "cell_type": "code",
   "execution_count": 212,
   "id": "111101b8",
   "metadata": {},
   "outputs": [],
   "source": []
  },
  {
   "cell_type": "code",
   "execution_count": 213,
   "id": "5aff41b7",
   "metadata": {},
   "outputs": [
    {
     "ename": "AttributeError",
     "evalue": "'list' object has no attribute 'create_png'",
     "output_type": "error",
     "traceback": [
      "\u001b[1;31m---------------------------------------------------------------------------\u001b[0m",
      "\u001b[1;31mAttributeError\u001b[0m                            Traceback (most recent call last)",
      "\u001b[1;32m<ipython-input-213-e6295557e538>\u001b[0m in \u001b[0;36m<module>\u001b[1;34m\u001b[0m\n\u001b[1;32m----> 1\u001b[1;33m \u001b[0mImage\u001b[0m\u001b[1;33m(\u001b[0m\u001b[0mgraph\u001b[0m\u001b[1;33m.\u001b[0m\u001b[0mcreate_png\u001b[0m\u001b[1;33m(\u001b[0m\u001b[1;33m)\u001b[0m\u001b[1;33m)\u001b[0m\u001b[1;33m\u001b[0m\u001b[1;33m\u001b[0m\u001b[0m\n\u001b[0m",
      "\u001b[1;31mAttributeError\u001b[0m: 'list' object has no attribute 'create_png'"
     ]
    }
   ],
   "source": []
  },
  {
   "cell_type": "code",
   "execution_count": null,
   "id": "5239e888",
   "metadata": {},
   "outputs": [],
   "source": []
  },
  {
   "cell_type": "code",
   "execution_count": null,
   "id": "04ca6c5b",
   "metadata": {},
   "outputs": [],
   "source": []
  }
 ],
 "metadata": {
  "kernelspec": {
   "display_name": "Python 3",
   "language": "python",
   "name": "python3"
  },
  "language_info": {
   "codemirror_mode": {
    "name": "ipython",
    "version": 3
   },
   "file_extension": ".py",
   "mimetype": "text/x-python",
   "name": "python",
   "nbconvert_exporter": "python",
   "pygments_lexer": "ipython3",
   "version": "3.7.3"
  }
 },
 "nbformat": 4,
 "nbformat_minor": 5
}
